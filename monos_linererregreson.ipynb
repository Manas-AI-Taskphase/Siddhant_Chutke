{
  "nbformat": 4,
  "nbformat_minor": 0,
  "metadata": {
    "colab": {
      "provenance": []
    },
    "kernelspec": {
      "name": "python3",
      "display_name": "Python 3"
    },
    "language_info": {
      "name": "python"
    }
  },
  "cells": [
    {
      "cell_type": "code",
      "execution_count": 5,
      "metadata": {
        "id": "UQQrjOStYjyd"
      },
      "outputs": [],
      "source": [
        "import pandas as pd\n",
        "import numpy as np\n",
        "import matplotlib.pyplot as plt\n",
        "\n",
        "train = pd.read_csv('train.csv')\n",
        "#test = pd.read_csv('test.csv')\n",
        "train.columns\n",
        "train.shape[1]\n",
        "trainf = (train - train.mean())/train.std()"
      ]
    },
    {
      "cell_type": "code",
      "source": [
        "y = trainf[['SalePrice']].copy()\n",
        "x = trainf[ ['OverallQual', 'GrLivArea', 'GarageCars', 'GarageArea', 'TotalBsmtSF',\n",
        "       '1stFlrSF', 'FullBath', 'TotRmsAbvGrd', 'YearBuilt', 'YearRemodAdd']].copy()\n"
      ],
      "metadata": {
        "id": "UGjhk9Y3ZBJa"
      },
      "execution_count": 6,
      "outputs": []
    },
    {
      "cell_type": "code",
      "source": [
        "x['intercept']  = 1\n",
        "x = x[ ['intercept','OverallQual', 'GrLivArea', 'GarageCars', 'GarageArea', 'TotalBsmtSF',\n",
        "       '1stFlrSF', 'FullBath', 'TotRmsAbvGrd', 'YearBuilt', 'YearRemodAdd']]\n"
      ],
      "metadata": {
        "id": "ETatGaE5ZCTa"
      },
      "execution_count": 7,
      "outputs": []
    },
    {
      "cell_type": "code",
      "source": [
        "def model(x,y,learning_rate, epochs):\n",
        "  m = y.size\n",
        "  msearray = []\n",
        "  theta = np.zeros((x.shape[1], 1))\n",
        "  for i in range(epochs):\n",
        "    y_pred = np.dot(x,theta)\n",
        "    mse = (1/(2*m)) * np.sum(( y - y_pred)**2)\n",
        "    msearray.append(mse)\n",
        "    d_theta = (1/m)*np.dot(x.T,y_pred-y)\n",
        "    theta = theta - learning_rate*d_theta\n",
        "\n",
        "  return theta,msearray\n"
      ],
      "metadata": {
        "id": "lORR4PSnaMwG"
      },
      "execution_count": 8,
      "outputs": []
    },
    {
      "cell_type": "code",
      "source": [
        "epochs = 10000\n",
        "learning_rate = 0.001\n",
        "theta , msearray = model(x,y,learning_rate = learning_rate, epochs = epochs)\n"
      ],
      "metadata": {
        "id": "lgLMQUIcavR8"
      },
      "execution_count": 10,
      "outputs": []
    },
    {
      "cell_type": "code",
      "source": [
        "rng = np.arange(0,epochs)\n",
        "plt.plot(rng, msearray)\n",
        "plt.show()"
      ],
      "metadata": {
        "colab": {
          "base_uri": "https://localhost:8080/",
          "height": 430
        },
        "id": "WSLPJxAcay9K",
        "outputId": "40ffe82b-d45d-4b6e-9720-d262efdfbc9c"
      },
      "execution_count": 11,
      "outputs": [
        {
          "output_type": "display_data",
          "data": {
            "text/plain": [
              "<Figure size 640x480 with 1 Axes>"
            ],
            "image/png": "[encoded data removed]"
          },
          "metadata": {}
        }
      ]
    },
    {
      "cell_type": "code",
      "source": [
        "test1 = pd.read_csv('test.csv')\n",
        "test = (test1- test1.mean())/test1.std()\n",
        "y_test = test[['SalePrice']].copy()\n",
        "x_test = test[ ['OverallQual', 'GrLivArea', 'GarageCars', 'GarageArea', 'TotalBsmtSF',\n",
        "       '1stFlrSF', 'FullBath', 'TotRmsAbvGrd', 'YearBuilt', 'YearRemodAdd']].copy()\n",
        "x_test['intercept']  = 1\n",
        "x_test = x_test[ ['intercept','OverallQual', 'GrLivArea', 'GarageCars', 'GarageArea', 'TotalBsmtSF',\n",
        "       '1stFlrSF', 'FullBath', 'TotRmsAbvGrd', 'YearBuilt', 'YearRemodAdd']]"
      ],
      "metadata": {
        "id": "lIre1tispbxF"
      },
      "execution_count": 12,
      "outputs": []
    },
    {
      "cell_type": "code",
      "source": [
        "y_pred = np.dot(x_test, theta)\n",
        "error = (1/x_test.shape[0])*np.sum(np.abs(y_pred - y_test))"
      ],
      "metadata": {
        "id": "4toOPwe1pnOS"
      },
      "execution_count": 13,
      "outputs": []
    },
    {
      "cell_type": "code",
      "source": [
        "print(\"Test error is :\", error*100, \"%\")\n",
        "print(\"Test Accuracy is :\", (1- error)*100, \"%\")"
      ],
      "metadata": {
        "colab": {
          "base_uri": "https://localhost:8080/"
        },
        "id": "cF5irXh1p1Df",
        "outputId": "7c3d23c3-2ef6-41e7-d229-b78469aed87a"
      },
      "execution_count": 14,
      "outputs": [
        {
          "output_type": "stream",
          "name": "stdout",
          "text": [
            "Test error is : SalePrice    29.859792\n",
            "dtype: float64 %\n",
            "Test Accuracy is : SalePrice    70.140208\n",
            "dtype: float64 %\n"
          ]
        }
      ]
    },
    {
      "cell_type": "code",
      "source": [],
      "metadata": {
        "id": "SpWLxxP5qoOt"
      },
      "execution_count": null,
      "outputs": []
    }
  ]
}