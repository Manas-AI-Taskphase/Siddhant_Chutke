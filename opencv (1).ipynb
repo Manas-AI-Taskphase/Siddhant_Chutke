{
  "metadata": {
    "kernelspec": {
      "name": "python",
      "display_name": "Python (Pyodide)",
      "language": "python"
    },
    "language_info": {
      "codemirror_mode": {
        "name": "python",
        "version": 3
      },
      "file_extension": ".py",
      "mimetype": "text/x-python",
      "name": "python",
      "nbconvert_exporter": "python",
      "pygments_lexer": "ipython3",
      "version": "3.8"
    }
  },
  "nbformat_minor": 5,
  "nbformat": 4,
  "cells": [
    {
      "id": "96fad0e4-0121-46d2-9f7f-e102b501c81e",
      "cell_type": "markdown",
      "source": "## Importing required libraries........",
      "metadata": {}
    },
    {
      "id": "9921d16b-a268-4259-aac2-7b65a942d219",
      "cell_type": "code",
      "source": "!pip install cv2\nimport cv2\nimport sys",
      "metadata": {
        "trusted": true
      },
      "outputs": [],
      "execution_count": null
    },
    {
      "id": "e22edde4-2969-4421-a877-7a33e17fdb48",
      "cell_type": "code",
      "source": "(major_ver, minor_ver, subminor_ver) = (cv2.__version__).split('.')",
      "metadata": {
        "trusted": true
      },
      "outputs": [],
      "execution_count": null
    },
    {
      "id": "29e33f82-2472-41ea-9235-8ab6b4be10d4",
      "cell_type": "code",
      "source": "if __name__ == '__main__' :\n \n    tracker_types = ['BOOSTING', 'MIL','KCF', 'TLD', 'MEDIANFLOW', 'GOTURN', 'MOSSE', 'CSRT']\n    tracker_type = tracker_types[7]\n \n    tracker = cv2.TrackerCSRT_create()\n   ",
      "metadata": {
        "trusted": true
      },
      "outputs": [],
      "execution_count": null
    },
    {
      "id": "430c86a9-c0ba-40bb-94be-aaca39e08089",
      "cell_type": "code",
      "source": "\nvideo = cv2.VideoCapture(\"volleyball_match.mp4\")\nvideo.set(cv2.CAP_PROP_POS_FRAMES, 119)\n",
      "metadata": {
        "trusted": true
      },
      "outputs": [],
      "execution_count": null
    },
    {
      "id": "e9d5164d-8bd0-4f91-bcc2-b3d2ce86f89a",
      "cell_type": "code",
      "source": "if not video.isOpened():\n        print(\"Could not open video\")\n        sys.exit()",
      "metadata": {
        "trusted": true
      },
      "outputs": [],
      "execution_count": null
    },
    {
      "id": "d4b1ec1f-60a6-42ff-8b83-4c569b89229a",
      "cell_type": "code",
      "source": "\nok, frame = video.read()\nif not ok:\n    print('Cannot read video file')\n    sys.exit()\n",
      "metadata": {
        "trusted": true
      },
      "outputs": [],
      "execution_count": null
    },
    {
      "id": "82bf551c-76be-46ea-98e4-4f74b5e40631",
      "cell_type": "code",
      "source": "\nbbox = (287, 23, 86, 320)\n",
      "metadata": {
        "trusted": true
      },
      "outputs": [],
      "execution_count": null
    },
    {
      "id": "2a37b5ea-db43-4767-b082-9fba5d52fad6",
      "cell_type": "code",
      "source": "\nbbox = cv2.selectROI(frame, False)\n",
      "metadata": {
        "trusted": true
      },
      "outputs": [],
      "execution_count": null
    },
    {
      "id": "439f91d6-dd04-4e36-b0d2-32e2350591b0",
      "cell_type": "code",
      "source": "\nok = tracker.init(frame, bbox)\n\nwhile True:\n    # Read a new frame\n    ok, frame = video.read()\n    if not ok:\n        break\n\n    timer = cv2.getTickCount()\n\n    ok, bbox = tracker.update(frame)\n\n    fps = cv2.getTickFrequency() / (cv2.getTickCount() - timer)\n\n    if ok:\n        p1 = (int(bbox[0]), int(bbox[1]))\n        p2 = (int(bbox[0] + bbox[2]), int(bbox[1] + bbox[3]))\n        cv2.rectangle(frame, p1, p2, (255, 0, 0), 2, 1)\n    else:\n        cv2.putText(frame, \"Tracking failure detected\", (100, 80), cv2.FONT_HERSHEY_SIMPLEX, 0.75, (0, 0, 255), 2)\n\n    cv2.putText(frame, tracker_type + \" Tracker\", (100, 20), cv2.FONT_HERSHEY_SIMPLEX, 0.75, (50, 170, 50), 2)\n\n    cv2.putText(frame, \"FPS : \" + str(int(fps)), (100, 50), cv2.FONT_HERSHEY_SIMPLEX, 0.75, (50, 170, 50), 2)\n\n    cv2.imshow(\"Tracking\", frame)\n\n    if cv2.waitKey(1) & 0xFF == ord('q'):  # if press SPACE bar\n        break\n\nvideo.release()\ncv2.destroyAllWindows()\n",
      "metadata": {
        "trusted": true
      },
      "outputs": [],
      "execution_count": null
    },
    {
      "id": "f429d899-dc0d-4797-913b-74e660488adf",
      "cell_type": "code",
      "source": "",
      "metadata": {},
      "outputs": [],
      "execution_count": null
    }
  ]
}